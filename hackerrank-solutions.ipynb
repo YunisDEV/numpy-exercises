{
 "cells": [
  {
   "cell_type": "markdown",
   "metadata": {},
   "source": [
    "## My Linear Algebra Hackerrank solutions with numpy"
   ]
  },
  {
   "cell_type": "code",
   "execution_count": 2,
   "metadata": {},
   "outputs": [],
   "source": [
    "import numpy as np\n",
    "\n",
    "def print_matrix(matrix):\n",
    "    for i in matrix:\n",
    "        for j in i:\n",
    "            print(j)"
   ]
  },
  {
   "cell_type": "markdown",
   "metadata": {},
   "source": [
    "---\n",
    "### Matrix Addition\n",
    "https://www.hackerrank.com/challenges/linear-algebra-foundations-1/problem"
   ]
  },
  {
   "cell_type": "code",
   "execution_count": 3,
   "metadata": {},
   "outputs": [
    {
     "name": "stdout",
     "output_type": "stream",
     "text": [
      "5\n",
      "7\n",
      "9\n",
      "9\n",
      "11\n",
      "13\n",
      "5\n",
      "6\n",
      "8\n"
     ]
    }
   ],
   "source": [
    "m1 = np.array([\n",
    "    [1,2,3],\n",
    "    [2,3,4],\n",
    "    [1,1,1]\n",
    "])\n",
    "\n",
    "m2 = np.array([\n",
    "    [4,5,6],\n",
    "    [7,8,9],\n",
    "    [4,5,7]\n",
    "])\n",
    "\n",
    "result = m1 + m2\n",
    "\n",
    "print_matrix(result)"
   ]
  },
  {
   "cell_type": "markdown",
   "metadata": {},
   "source": [
    "---\n",
    "### Matrix Subtraction\n",
    "https://www.hackerrank.com/challenges/linear-algebra-foundations-1-matrix-subtraction/problem"
   ]
  },
  {
   "cell_type": "code",
   "execution_count": 4,
   "metadata": {},
   "outputs": [
    {
     "name": "stdout",
     "output_type": "stream",
     "text": [
      "-3\n",
      "-3\n",
      "-3\n",
      "-5\n",
      "-5\n",
      "-5\n",
      "-3\n",
      "-4\n",
      "1\n"
     ]
    }
   ],
   "source": [
    "m1 = np.array([\n",
    "    [1,2,3],\n",
    "    [2,3,4],\n",
    "    [1,1,1]\n",
    "])\n",
    "\n",
    "m2 = np.array([\n",
    "    [4,5,6],\n",
    "    [7,8,9],\n",
    "    [4,5,0]\n",
    "])\n",
    "\n",
    "result = m1 - m2\n",
    "\n",
    "print_matrix(result)"
   ]
  },
  {
   "cell_type": "markdown",
   "metadata": {},
   "source": [
    "---\n",
    "### Matrix Multiplication\n",
    "https://www.hackerrank.com/challenges/linear-algebra-foundations-3-matrix-multiplication/problem"
   ]
  },
  {
   "cell_type": "code",
   "execution_count": 5,
   "metadata": {},
   "outputs": [
    {
     "name": "stdout",
     "output_type": "stream",
     "text": [
      "18\n",
      "21\n",
      "29\n",
      "34\n"
     ]
    }
   ],
   "source": [
    "m1 = np.array([\n",
    "    [1,2],\n",
    "    [2,3]\n",
    "])\n",
    "\n",
    "m2 = np.array([\n",
    "    [4,5],\n",
    "    [7,8]\n",
    "])\n",
    "\n",
    "result = np.dot(m1,m2)\n",
    "\n",
    "print_matrix(result)"
   ]
  },
  {
   "cell_type": "markdown",
   "metadata": {},
   "source": [
    "---\n",
    "\n",
    "### Matrix  Multiplication 2\n",
    "https://www.hackerrank.com/challenges/linear-algebra-foundations-4-matrix-multiplication/problem?h_r=next-challenge&h_v=zen"
   ]
  },
  {
   "cell_type": "code",
   "execution_count": 6,
   "metadata": {},
   "outputs": [
    {
     "name": "stdout",
     "output_type": "stream",
     "text": [
      "30\n",
      "36\n",
      "45\n",
      "45\n",
      "54\n",
      "67\n",
      "15\n",
      "18\n",
      "22\n"
     ]
    }
   ],
   "source": [
    "m1 = np.array([\n",
    "    [1,2,3],\n",
    "    [2,3,4],\n",
    "    [1,1,1]\n",
    "])\n",
    "\n",
    "m2 = np.array([\n",
    "    [4,5,6],\n",
    "    [7,8,9],\n",
    "    [4,5,7]\n",
    "])\n",
    "\n",
    "result = np.dot(m1,m2)\n",
    "\n",
    "print_matrix(result)"
   ]
  },
  {
   "cell_type": "markdown",
   "metadata": {},
   "source": [
    "---\n",
    "### The 100th Power of a Matrix\n",
    "https://www.hackerrank.com/challenges/linear-algebra-foundations-5-the-100th-power-of-a-matrix/problem?h_r=next-challenge&h_v=zen&h_r=next-challenge&h_v=zen"
   ]
  },
  {
   "cell_type": "code",
   "execution_count": null,
   "metadata": {},
   "outputs": [],
   "source": [
    "A = np.array([\n",
    "    [1,1,0],\n",
    "    [0,1,0],\n",
    "    [0,0,1]\n",
    "])\n",
    "\n"
   ]
  }
 ],
 "metadata": {
  "kernelspec": {
   "display_name": "Python 3",
   "language": "python",
   "name": "python3"
  },
  "language_info": {
   "codemirror_mode": {
    "name": "ipython",
    "version": 3
   },
   "file_extension": ".py",
   "mimetype": "text/x-python",
   "name": "python",
   "nbconvert_exporter": "python",
   "pygments_lexer": "ipython3",
   "version": "3.8.5"
  }
 },
 "nbformat": 4,
 "nbformat_minor": 4
}
